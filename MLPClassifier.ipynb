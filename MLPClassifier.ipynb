{
 "cells": [
  {
   "cell_type": "markdown",
   "id": "f0479ecc-2836-4fa9-a1cb-0664cb389ec6",
   "metadata": {},
   "source": [
    "# Model Implementation -  SVC\n",
    "\n",
    "**Security DS - Proyecto 1**\n",
    "\n",
    "Roberto Figueroa - 18306\n",
    "\n",
    "Gustavo Méndez - 18500"
   ]
  },
  {
   "cell_type": "code",
   "execution_count": 27,
   "id": "de6edd29-f695-4ad3-8cae-08d0b5db0ef8",
   "metadata": {},
   "outputs": [],
   "source": [
    "import pandas as pd\n",
    "import numpy as np\n",
    "import matplotlib.pyplot as plt\n",
    "from utils import reduce_memory_usage\n",
    "from sklearn.preprocessing import StandardScaler\n",
    "from sklearn.pipeline import make_pipeline\n",
    "from sklearn.preprocessing import StandardScaler\n",
    "from sklearn.neural_network import MLPClassifier\n",
    "import seaborn as sns\n",
    "\n",
    "from sklearn import metrics, model_selection, tree\n",
    "from sklearn.model_selection import train_test_split\n",
    "from sklearn.metrics import confusion_matrix, precision_score, recall_score, f1_score, plot_confusion_matrix, accuracy_score, roc_auc_score, roc_curve, auc\n",
    "from sklearn.preprocessing import label_binarize\n",
    "from sklearn.compose import ColumnTransformer\n",
    "from itertools import cycle\n",
    "from utils import (\n",
    "    get_roc_curves,\n",
    "    get_model_metrics,\n",
    "    k_fold_val\n",
    ")\n",
    "\n",
    "%matplotlib inline\n",
    "pd.set_option(\"display.max_columns\", None)"
   ]
  },
  {
   "cell_type": "markdown",
   "id": "3ad3ff75-0a2c-4476-a04a-6f9d4a7c6949",
   "metadata": {
    "tags": []
   },
   "source": [
    "### Functions"
   ]
  },
  {
   "cell_type": "code",
   "execution_count": 20,
   "id": "a7229320-991f-41a4-8486-4b130c63d394",
   "metadata": {},
   "outputs": [],
   "source": [
    "def get_model_metrics(y_val, predictions, model_name):\n",
    "    conf_matrix = confusion_matrix(y_val, predictions)\n",
    "    accu = accuracy_score(y_val, predictions)\n",
    "    _recall_score = recall_score(y_val, predictions, average='weighted')\n",
    "    _precision_score = precision_score(y_val, predictions, average='weighted')\n",
    "    _f1_score = f1_score(y_val, predictions, average='weighted')\n",
    "\n",
    "    print(f\"\\n---Metrics for {model_name}---\")\n",
    "    print(\"\\n Confusion Matrix\\n\", conf_matrix)\n",
    "    print(\"\\n Accuracy\", accu)\n",
    "    print(\"\\n Precision\", _precision_score)\n",
    "    print(\"\\n Recall\", _recall_score)\n",
    "    print(\"\\n F1 Score\", _f1_score)\n",
    "    \n",
    "    return conf_matrix\n"
   ]
  },
  {
   "cell_type": "code",
   "execution_count": 35,
   "id": "659d00c2-6fe6-4c01-9456-1a2245ca8f4c",
   "metadata": {},
   "outputs": [],
   "source": [
    "def get_roc_curves(y, y_pred):\n",
    "    y_ = label_binarize(y, classes=[0, 1])\n",
    "    pred = label_binarize(y_pred, classes=[0,1])\n",
    "    \n",
    "    # Compute ROC curve and ROC area for each class\n",
    "    fpr = dict()\n",
    "    tpr = dict()\n",
    "    roc_auc = dict()\n",
    "    n_classes=1\n",
    "    for i in range(n_classes):\n",
    "        fpr[i], tpr[i], _ = roc_curve(y_[:, i], pred[:, i])\n",
    "        roc_auc[i] = auc(fpr[i], tpr[i])\n",
    "\n",
    "    # Compute micro-average ROC curve and ROC area\n",
    "    fpr[\"micro\"], tpr[\"micro\"], _ = roc_curve(y_.ravel(), pred.ravel())\n",
    "    roc_auc[\"micro\"] = auc(fpr[\"micro\"], tpr[\"micro\"])\n",
    "\n",
    "    plt.figure()\n",
    "    lw = 2\n",
    "    plt.plot(\n",
    "        fpr[0],\n",
    "        tpr[0],\n",
    "        color=\"darkorange\",\n",
    "        lw=lw,\n",
    "        label=\"ROC curve (area = %0.2f)\" % roc_auc[0],\n",
    "    )\n",
    "    plt.rcParams[\"figure.figsize\"] = (5,5)\n",
    "    plt.plot([0, 1], [0, 1], color=\"navy\", lw=lw, linestyle=\"--\")\n",
    "    plt.xlim([0.0, 1.0])\n",
    "    plt.ylim([0.0, 1.05])\n",
    "    plt.xlabel(\"False Positive Rate\")\n",
    "    plt.ylabel(\"True Positive Rate\")\n",
    "    plt.title(\"Curva ROC\")\n",
    "    plt.legend(loc=\"lower right\")\n",
    "    plt.show()\n",
    "    \n",
    "    # First aggregate all false positive rates\n",
    "    all_fpr = np.unique(np.concatenate([fpr[i] for i in range(n_classes)]))\n",
    "\n",
    "    # Then interpolate all ROC curves at this points\n",
    "    mean_tpr = np.zeros_like(all_fpr)\n",
    "    for i in range(n_classes):\n",
    "        mean_tpr += np.interp(all_fpr, fpr[i], tpr[i])\n",
    "\n",
    "    # Finally average it and compute AUC\n",
    "    mean_tpr /= n_classes\n",
    "\n",
    "    fpr[\"macro\"] = all_fpr\n",
    "    tpr[\"macro\"] = mean_tpr\n",
    "    roc_auc[\"macro\"] = auc(fpr[\"macro\"], tpr[\"macro\"])\n",
    "\n",
    "    # Plot all ROC curves\n",
    "    plt.figure()\n",
    "    plt.plot(\n",
    "        fpr[\"micro\"],\n",
    "        tpr[\"micro\"],\n",
    "        label=\"micro-average ROC curve (area = {0:0.2f})\".format(roc_auc[\"micro\"]),\n",
    "        color=\"deeppink\",\n",
    "        linestyle=\":\",\n",
    "        linewidth=4,\n",
    "    )\n",
    "\n",
    "    plt.plot(\n",
    "        fpr[\"macro\"],\n",
    "        tpr[\"macro\"],\n",
    "        label=\"macro-average ROC curve (area = {0:0.2f})\".format(roc_auc[\"macro\"]),\n",
    "        color=\"navy\",\n",
    "        linestyle=\":\",\n",
    "        linewidth=4,\n",
    "    )\n",
    "\n",
    "    colors = cycle([\"aqua\", \"darkorange\", \"cornflowerblue\"])\n",
    "    for i, color in zip(range(n_classes), colors):\n",
    "        plt.plot(\n",
    "            fpr[i],\n",
    "            tpr[i],\n",
    "            color=color,\n",
    "            lw=lw,\n",
    "            label=\"ROC curve of class {0} (area = {1:0.2f})\".format(i, roc_auc[i]),\n",
    "        )\n",
    "\n",
    "    plt.plot([0, 1], [0, 1], \"k--\", lw=lw)\n",
    "    plt.xlim([0.0, 1.0])\n",
    "    plt.ylim([0.0, 1.05])\n",
    "    plt.xlabel(\"False Positive Rate\")\n",
    "    plt.ylabel(\"True Positive Rate\")\n",
    "    plt.title(\"Curva ROC\")\n",
    "    plt.legend(loc=\"lower right\")\n",
    "    plt.show()"
   ]
  },
  {
   "cell_type": "code",
   "execution_count": 37,
   "id": "6b556849-67be-4a8a-a5f9-14b307917199",
   "metadata": {},
   "outputs": [],
   "source": [
    "def k_fold_val(model, X, y, model_name, splits=5):\n",
    "    # Validation of model after train with train data\n",
    "    k_folds_model_train = model_selection.KFold(n_splits=splits, shuffle=True, random_state=79)\n",
    "    k_folds_model_train.get_n_splits(X)\n",
    "    scores = model_selection.cross_val_score(model, X, y, cv=k_folds_model_train)\n",
    "    print(f\"---k-fold scores for {model_name}---\")\n",
    "    print(\"Scores are: \", scores)\n",
    "    print(\"Mean is: \", np.mean(scores))\n",
    "    print(\"STD is: +-\", np.std(scores))"
   ]
  },
  {
   "cell_type": "markdown",
   "id": "aa752972-9a38-4d29-baf1-c0df4972d616",
   "metadata": {
    "tags": []
   },
   "source": [
    "### Load Data"
   ]
  },
  {
   "cell_type": "code",
   "execution_count": 2,
   "id": "6baadc2b-b8ac-493c-b062-f676250b3225",
   "metadata": {},
   "outputs": [],
   "source": [
    "X_columns = ['AVProductsInstalled',\n",
    "             'SmartScreen',\n",
    "             'AVProductStatesIdentifier',\n",
    "             'Census_OSArchitecture',\n",
    "             'AppVersion_2',\n",
    "             'Census_TotalPhysicalRAM',\n",
    "             'IsProtected',\n",
    "             'EngineVersion',\n",
    "             'Census_SystemVolumeTotalCapacity',\n",
    "             'CountryIdentifier',\n",
    "             'OrganizationIdentifier',\n",
    "             'AppVersion_3',\n",
    "             'Census_FirmwareVersionIdentifier',\n",
    "             'Census_ProcessorModelIdentifier',\n",
    "             'Census_OEMModelIdentifier',\n",
    "             'CountryIdentifier',\n",
    "             'OrganizationIdentifier',\n",
    "             'HasDetections'\n",
    "             ]"
   ]
  },
  {
   "cell_type": "code",
   "execution_count": 3,
   "id": "b5d73924-b1bf-44bb-a51d-597569dba9ee",
   "metadata": {},
   "outputs": [],
   "source": [
    "df = pd.read_csv('./datasets/train_preprocessed.csv', usecols=X_columns)"
   ]
  },
  {
   "cell_type": "code",
   "execution_count": 4,
   "id": "31762b95-3d83-4aec-82d6-7d3ed682e9e0",
   "metadata": {},
   "outputs": [],
   "source": [
    "# Warn: Do not execute except hardware limitations\n",
    "df = df.sample(frac=0.25)"
   ]
  },
  {
   "cell_type": "code",
   "execution_count": 4,
   "id": "d93c249e-a702-4a12-9c79-3e38c2a2f88b",
   "metadata": {},
   "outputs": [
    {
     "data": {
      "text/plain": [
       "(7667799, 16)"
      ]
     },
     "execution_count": 4,
     "metadata": {},
     "output_type": "execute_result"
    }
   ],
   "source": [
    "df.shape"
   ]
  },
  {
   "cell_type": "code",
   "execution_count": 5,
   "id": "ed306733-9e3b-4ed0-9657-596301182b4a",
   "metadata": {},
   "outputs": [],
   "source": [
    "X = df.drop(\"HasDetections\", axis=1)\n",
    "y = df[\"HasDetections\"]\n",
    "\n",
    "del df"
   ]
  },
  {
   "cell_type": "code",
   "execution_count": 6,
   "id": "8eea40e6-246a-46b0-82a5-c9d246e69942",
   "metadata": {},
   "outputs": [],
   "source": [
    "X_train, X_test, y_train, y_test = train_test_split(X, y, train_size=0.8, random_state=42)"
   ]
  },
  {
   "cell_type": "markdown",
   "id": "2331f431-5d2f-4154-abf6-450380885241",
   "metadata": {},
   "source": [
    "### Model Implementation"
   ]
  },
  {
   "cell_type": "code",
   "execution_count": 15,
   "id": "57e579c9-acf4-4b40-a4bb-b3ebd6060a77",
   "metadata": {},
   "outputs": [],
   "source": [
    "clf = make_pipeline(StandardScaler(), MLPClassifier(random_state=1, max_iter=200, early_stopping=True, verbose=True))"
   ]
  },
  {
   "cell_type": "code",
   "execution_count": 16,
   "id": "0bfc3fe3-f891-4ebd-9b63-3c05e7d6e779",
   "metadata": {},
   "outputs": [
    {
     "name": "stdout",
     "output_type": "stream",
     "text": [
      "Iteration 1, loss = 0.64234112\n",
      "Validation score: 0.625187\n",
      "Iteration 2, loss = 0.63457611\n",
      "Validation score: 0.626640\n",
      "Iteration 3, loss = 0.63354217\n",
      "Validation score: 0.628148\n",
      "Iteration 4, loss = 0.63301436\n",
      "Validation score: 0.628384\n",
      "Iteration 5, loss = 0.63258803\n",
      "Validation score: 0.628655\n",
      "Iteration 6, loss = 0.63232998\n",
      "Validation score: 0.629628\n",
      "Iteration 7, loss = 0.63213493\n",
      "Validation score: 0.629208\n",
      "Iteration 8, loss = 0.63195003\n",
      "Validation score: 0.628989\n",
      "Iteration 9, loss = 0.63183108\n",
      "Validation score: 0.630125\n",
      "Iteration 10, loss = 0.63169382\n",
      "Validation score: 0.629447\n",
      "Iteration 11, loss = 0.63159918\n",
      "Validation score: 0.629516\n",
      "Iteration 12, loss = 0.63148625\n",
      "Validation score: 0.629684\n",
      "Iteration 13, loss = 0.63141633\n",
      "Validation score: 0.629869\n",
      "Iteration 14, loss = 0.63136010\n",
      "Validation score: 0.630287\n",
      "Iteration 15, loss = 0.63127638\n",
      "Validation score: 0.629892\n",
      "Iteration 16, loss = 0.63120484\n",
      "Validation score: 0.630817\n",
      "Iteration 17, loss = 0.63114339\n",
      "Validation score: 0.629398\n",
      "Iteration 18, loss = 0.63110428\n",
      "Validation score: 0.630916\n",
      "Iteration 19, loss = 0.63103708\n",
      "Validation score: 0.631041\n",
      "Iteration 20, loss = 0.63098737\n",
      "Validation score: 0.630424\n",
      "Iteration 21, loss = 0.63094357\n",
      "Validation score: 0.630541\n",
      "Iteration 22, loss = 0.63092164\n",
      "Validation score: 0.630665\n",
      "Iteration 23, loss = 0.63086545\n",
      "Validation score: 0.630186\n",
      "Iteration 24, loss = 0.63083628\n",
      "Validation score: 0.630614\n",
      "Iteration 25, loss = 0.63082718\n",
      "Validation score: 0.630321\n",
      "Iteration 26, loss = 0.63078706\n",
      "Validation score: 0.630464\n",
      "Iteration 27, loss = 0.63076041\n",
      "Validation score: 0.630420\n",
      "Iteration 28, loss = 0.63073837\n",
      "Validation score: 0.629719\n",
      "Iteration 29, loss = 0.63072658\n",
      "Validation score: 0.630357\n",
      "Iteration 30, loss = 0.63070251\n",
      "Validation score: 0.630810\n",
      "Validation score did not improve more than tol=0.000100 for 10 consecutive epochs. Stopping.\n"
     ]
    },
    {
     "data": {
      "text/plain": [
       "Pipeline(steps=[('standardscaler', StandardScaler()),\n",
       "                ('mlpclassifier',\n",
       "                 MLPClassifier(early_stopping=True, random_state=1,\n",
       "                               verbose=True))])"
      ]
     },
     "execution_count": 16,
     "metadata": {},
     "output_type": "execute_result"
    }
   ],
   "source": [
    "clf.fit(X_train, y_train)"
   ]
  },
  {
   "cell_type": "markdown",
   "id": "66a71ea5-110f-4147-aa34-095ed680710f",
   "metadata": {},
   "source": [
    "### Predict"
   ]
  },
  {
   "cell_type": "code",
   "execution_count": 19,
   "id": "49b01aac-3459-404c-b024-32c212ac5c68",
   "metadata": {},
   "outputs": [],
   "source": [
    "predictions = clf.predict(X_test)"
   ]
  },
  {
   "cell_type": "markdown",
   "id": "26761ebe-93b0-4259-8877-e9612f681b0c",
   "metadata": {
    "tags": []
   },
   "source": [
    "### Metrics"
   ]
  },
  {
   "cell_type": "code",
   "execution_count": 21,
   "id": "41bf0cb9-5cfe-4ee9-9158-dc67843d4989",
   "metadata": {},
   "outputs": [
    {
     "name": "stdout",
     "output_type": "stream",
     "text": [
      "\n",
      "---Metrics for MLPClassifier---\n",
      "\n",
      " Confusion Matrix\n",
      " [[476550 287164]\n",
      " [276743 493103]]\n",
      "\n",
      " Accuracy 0.6322889225071077\n",
      "\n",
      " Precision 0.6322933758741142\n",
      "\n",
      " Recall 0.6322889225071077\n",
      "\n",
      " F1 Score 0.6322619487227563\n"
     ]
    }
   ],
   "source": [
    "conf_matrix = get_model_metrics(y_test, predictions, \"MLPClassifier\")"
   ]
  },
  {
   "cell_type": "code",
   "execution_count": 25,
   "id": "d0bbf03a-5422-4a58-809c-e04c136edc2a",
   "metadata": {},
   "outputs": [
    {
     "data": {
      "image/png": "[encoded data removed]",
      "text/plain": [
       "<Figure size 432x288 with 2 Axes>"
      ]
     },
     "metadata": {
      "needs_background": "light"
     },
     "output_type": "display_data"
    }
   ],
   "source": [
    "sns.heatmap(conf_matrix, annot=True, fmt=\".4g\");"
   ]
  },
  {
   "cell_type": "markdown",
   "id": "2c4efb7a-5b06-4dc4-b1ee-cf9cca471617",
   "metadata": {},
   "source": [
    "### Cross Validation"
   ]
  },
  {
   "cell_type": "code",
   "execution_count": null,
   "id": "87a4d1e8-4011-4dbe-a156-2237f15351cc",
   "metadata": {},
   "outputs": [],
   "source": [
    "k_fold_val(clf, X, y, \"MPLClassifier\", splits=10)"
   ]
  },
  {
   "cell_type": "markdown",
   "id": "7812f2f4-7f9c-4855-a249-627f32158dd8",
   "metadata": {},
   "source": [
    "### ROC Curve"
   ]
  },
  {
   "cell_type": "code",
   "execution_count": 36,
   "id": "3b17b0fc-b26f-45b1-8a43-0b3a838aa958",
   "metadata": {},
   "outputs": [
    {
     "data": {
      "image/png": "[encoded data removed]",
      "text/plain": [
       "<Figure size 432x288 with 1 Axes>"
      ]
     },
     "metadata": {
      "needs_background": "light"
     },
     "output_type": "display_data"
    },
    {
     "data": {
      "image/png": "[encoded data removed]",
      "text/plain": [
       "<Figure size 360x360 with 1 Axes>"
      ]
     },
     "metadata": {
      "needs_background": "light"
     },
     "output_type": "display_data"
    }
   ],
   "source": [
    "get_roc_curves(y_test, predictions)"
   ]
  }
 ],
 "metadata": {
  "kernelspec": {
   "display_name": "venv",
   "language": "python",
   "name": "venv"
  },
  "language_info": {
   "codemirror_mode": {
    "name": "ipython",
    "version": 3
   },
   "file_extension": ".py",
   "mimetype": "text/x-python",
   "name": "python",
   "nbconvert_exporter": "python",
   "pygments_lexer": "ipython3",
   "version": "3.8.10"
  }
 },
 "nbformat": 4,
 "nbformat_minor": 5
}
