{
 "cells": [
  {
   "cell_type": "markdown",
   "metadata": {
    "id": "YjuTrN9MYHva"
   },
   "source": [
    "# Naive Bayes"
   ]
  },
  {
   "cell_type": "code",
   "execution_count": 1,
   "metadata": {
    "colab": {
     "base_uri": "https://localhost:8080/",
     "height": 391
    },
    "id": "UXuBEOqMXwo3",
    "outputId": "7ab0c897-128c-419a-92a7-7a14fefbc088"
   },
   "outputs": [],
   "source": [
    "import warnings\n",
    "import pandas as pd\n",
    "import numpy as np\n",
    "import matplotlib.pyplot as plt\n",
    "import seaborn as sns\n",
    "from sklearn.naive_bayes import GaussianNB\n",
    "from sklearn.model_selection import train_test_split, cross_val_score\n",
    "from sklearn.metrics import confusion_matrix, precision_score, recall_score, f1_score, plot_confusion_matrix, accuracy_score, roc_auc_score, roc_curve, auc\n",
    "from sklearn.preprocessing import StandardScaler, label_binarize\n",
    "from sklearn.pipeline import make_pipeline\n",
    "from sklearn import model_selection\n",
    "\n",
    "from itertools import cycle\n",
    "%matplotlib inline \n",
    "\n",
    "warnings.filterwarnings('ignore')"
   ]
  },
  {
   "cell_type": "markdown",
   "metadata": {},
   "source": [
    "## Functions"
   ]
  },
  {
   "cell_type": "code",
   "execution_count": 2,
   "metadata": {},
   "outputs": [],
   "source": [
    "def get_model_metrics(y_val, predictions, model_name):\n",
    "    conf_matrix = confusion_matrix(y_val, predictions)\n",
    "    accu = accuracy_score(y_val, predictions)\n",
    "    _recall_score = recall_score(y_val, predictions, average='weighted')\n",
    "    _precision_score = precision_score(y_val, predictions, average='weighted')\n",
    "    _f1_score = f1_score(y_val, predictions, average='weighted')\n",
    "\n",
    "    print(f\"\\n---Metrics for {model_name}---\")\n",
    "    print(\"\\n Confusion Matrix\\n\", conf_matrix)\n",
    "    print(\"\\n Accuracy\", accu)\n",
    "    print(\"\\n Precision\", _precision_score)\n",
    "    print(\"\\n Recall\", _recall_score)\n",
    "    print(\"\\n F1 Score\", _f1_score)\n",
    "    \n",
    "    return conf_matrix"
   ]
  },
  {
   "cell_type": "code",
   "execution_count": 3,
   "metadata": {},
   "outputs": [],
   "source": [
    "def get_roc_curves(y, y_pred):\n",
    "    y_ = label_binarize(y, classes=[0, 1])\n",
    "    pred = label_binarize(y_pred, classes=[0,1])\n",
    "    \n",
    "    # Compute ROC curve and ROC area for each class\n",
    "    fpr = dict()\n",
    "    tpr = dict()\n",
    "    roc_auc = dict()\n",
    "    n_classes=1\n",
    "    for i in range(n_classes):\n",
    "        fpr[i], tpr[i], _ = roc_curve(y_[:, i], pred[:, i])\n",
    "        roc_auc[i] = auc(fpr[i], tpr[i])\n",
    "\n",
    "    # Compute micro-average ROC curve and ROC area\n",
    "    fpr[\"micro\"], tpr[\"micro\"], _ = roc_curve(y_.ravel(), pred.ravel())\n",
    "    roc_auc[\"micro\"] = auc(fpr[\"micro\"], tpr[\"micro\"])\n",
    "\n",
    "    plt.figure()\n",
    "    lw = 2\n",
    "    plt.plot(\n",
    "        fpr[0],\n",
    "        tpr[0],\n",
    "        color=\"darkorange\",\n",
    "        lw=lw,\n",
    "        label=\"ROC curve (area = %0.2f)\" % roc_auc[0],\n",
    "    )\n",
    "    plt.rcParams[\"figure.figsize\"] = (5,5)\n",
    "    plt.plot([0, 1], [0, 1], color=\"navy\", lw=lw, linestyle=\"--\")\n",
    "    plt.xlim([0.0, 1.0])\n",
    "    plt.ylim([0.0, 1.05])\n",
    "    plt.xlabel(\"False Positive Rate\")\n",
    "    plt.ylabel(\"True Positive Rate\")\n",
    "    plt.title(\"Curva ROC\")\n",
    "    plt.legend(loc=\"lower right\")\n",
    "    plt.show()\n",
    "    \n",
    "    # First aggregate all false positive rates\n",
    "    all_fpr = np.unique(np.concatenate([fpr[i] for i in range(n_classes)]))\n",
    "\n",
    "    # Then interpolate all ROC curves at this points\n",
    "    mean_tpr = np.zeros_like(all_fpr)\n",
    "    for i in range(n_classes):\n",
    "        mean_tpr += np.interp(all_fpr, fpr[i], tpr[i])\n",
    "\n",
    "    # Finally average it and compute AUC\n",
    "    mean_tpr /= n_classes\n",
    "\n",
    "    fpr[\"macro\"] = all_fpr\n",
    "    tpr[\"macro\"] = mean_tpr\n",
    "    roc_auc[\"macro\"] = auc(fpr[\"macro\"], tpr[\"macro\"])\n",
    "\n",
    "    # Plot all ROC curves\n",
    "    plt.figure()\n",
    "    plt.plot(\n",
    "        fpr[\"micro\"],\n",
    "        tpr[\"micro\"],\n",
    "        label=\"micro-average ROC curve (area = {0:0.2f})\".format(roc_auc[\"micro\"]),\n",
    "        color=\"deeppink\",\n",
    "        linestyle=\":\",\n",
    "        linewidth=4,\n",
    "    )\n",
    "\n",
    "    plt.plot(\n",
    "        fpr[\"macro\"],\n",
    "        tpr[\"macro\"],\n",
    "        label=\"macro-average ROC curve (area = {0:0.2f})\".format(roc_auc[\"macro\"]),\n",
    "        color=\"navy\",\n",
    "        linestyle=\":\",\n",
    "        linewidth=4,\n",
    "    )\n",
    "\n",
    "    colors = cycle([\"aqua\", \"darkorange\", \"cornflowerblue\"])\n",
    "    for i, color in zip(range(n_classes), colors):\n",
    "        plt.plot(\n",
    "            fpr[i],\n",
    "            tpr[i],\n",
    "            color=color,\n",
    "            lw=lw,\n",
    "            label=\"ROC curve of class {0} (area = {1:0.2f})\".format(i, roc_auc[i]),\n",
    "        )\n",
    "\n",
    "    plt.plot([0, 1], [0, 1], \"k--\", lw=lw)\n",
    "    plt.xlim([0.0, 1.0])\n",
    "    plt.ylim([0.0, 1.05])\n",
    "    plt.xlabel(\"False Positive Rate\")\n",
    "    plt.ylabel(\"True Positive Rate\")\n",
    "    plt.title(\"Curva ROC\")\n",
    "    plt.legend(loc=\"lower right\")\n",
    "    plt.show()"
   ]
  },
  {
   "cell_type": "code",
   "execution_count": 4,
   "metadata": {},
   "outputs": [],
   "source": [
    "def k_fold_val(model, X, y, model_name, splits=5):\n",
    "    # Validation of model after train with train data\n",
    "    k_folds_model_train = model_selection.KFold(n_splits=splits, shuffle=True, random_state=79)\n",
    "    k_folds_model_train.get_n_splits(X)\n",
    "    scores = model_selection.cross_val_score(model, X, y, cv=k_folds_model_train)\n",
    "    print(f\"---k-fold scores for {model_name}---\")\n",
    "    print(\"Scores are: \", scores)\n",
    "    print(\"Mean is: \", np.mean(scores))\n",
    "    print(\"STD is: +-\", np.std(scores))"
   ]
  },
  {
   "cell_type": "markdown",
   "metadata": {},
   "source": [
    "## Load data"
   ]
  },
  {
   "cell_type": "code",
   "execution_count": 5,
   "metadata": {
    "id": "n7GONd8pjJTO"
   },
   "outputs": [],
   "source": [
    "X_columns = ['AVProductsInstalled',\n",
    "             'SmartScreen',\n",
    "             'AVProductStatesIdentifier',\n",
    "             'Census_OSArchitecture',\n",
    "             'AppVersion_2',\n",
    "             'Census_TotalPhysicalRAM',\n",
    "             'IsProtected',\n",
    "             'EngineVersion',\n",
    "             'Census_SystemVolumeTotalCapacity',\n",
    "             'AppVersion_3',\n",
    "             'Census_FirmwareVersionIdentifier',\n",
    "             'Census_ProcessorModelIdentifier',\n",
    "             'Census_OEMModelIdentifier',\n",
    "             'CountryIdentifier',\n",
    "             'OrganizationIdentifier'\n",
    "             ]\n",
    "\n",
    "target = ['HasDetections']"
   ]
  },
  {
   "cell_type": "code",
   "execution_count": 6,
   "metadata": {
    "id": "jYr8gzsIgQUn"
   },
   "outputs": [],
   "source": [
    "df_train = pd.read_csv('./datasets/train_preprocessed.csv', usecols=X_columns + target)"
   ]
  },
  {
   "cell_type": "code",
   "execution_count": 7,
   "metadata": {
    "id": "B2tgGvRQiiSQ"
   },
   "outputs": [],
   "source": [
    "# We'll use whole df\n",
    "# df_train = df_train.sample(frac = 0.5)"
   ]
  },
  {
   "cell_type": "code",
   "execution_count": 8,
   "metadata": {},
   "outputs": [
    {
     "name": "stdout",
     "output_type": "stream",
     "text": [
      "Train dataset shape: (7667792, 16)\n"
     ]
    }
   ],
   "source": [
    "print(f\"Train dataset shape: {df_train.shape}\")"
   ]
  },
  {
   "cell_type": "markdown",
   "metadata": {},
   "source": [
    "## Data Split & Model"
   ]
  },
  {
   "cell_type": "code",
   "execution_count": 9,
   "metadata": {
    "id": "Vj2TF3IojvmZ",
    "scrolled": true
   },
   "outputs": [],
   "source": [
    "X = df_train.drop(\"HasDetections\", axis=1)\n",
    "y = df_train[\"HasDetections\"]\n",
    "\n",
    "del df_train"
   ]
  },
  {
   "cell_type": "code",
   "execution_count": 10,
   "metadata": {
    "id": "iQEu8xGn-xUZ"
   },
   "outputs": [],
   "source": [
    "x_train, x_test, y_train, y_test = train_test_split(X, y, train_size=0.8, random_state=31)"
   ]
  },
  {
   "cell_type": "code",
   "execution_count": 11,
   "metadata": {
    "id": "ybDodsbAkHDM"
   },
   "outputs": [],
   "source": [
    "clf = make_pipeline(StandardScaler(), GaussianNB())"
   ]
  },
  {
   "cell_type": "code",
   "execution_count": 12,
   "metadata": {
    "colab": {
     "base_uri": "https://localhost:8080/"
    },
    "id": "HiBplt02kKvL",
    "outputId": "c8292d06-ab4e-44bd-d79f-23b5376fe179"
   },
   "outputs": [
    {
     "data": {
      "text/plain": [
       "Pipeline(steps=[('standardscaler', StandardScaler()),\n",
       "                ('gaussiannb', GaussianNB())])"
      ]
     },
     "execution_count": 12,
     "metadata": {},
     "output_type": "execute_result"
    }
   ],
   "source": [
    "clf.fit(x_train, y_train)"
   ]
  },
  {
   "cell_type": "markdown",
   "metadata": {
    "id": "KKS4XSUV-71X"
   },
   "source": [
    "## Metrics"
   ]
  },
  {
   "cell_type": "code",
   "execution_count": 13,
   "metadata": {
    "colab": {
     "base_uri": "https://localhost:8080/"
    },
    "id": "YHFDAv6e_NOY",
    "outputId": "8e91c544-adb1-4889-8df7-e943c4a76e82"
   },
   "outputs": [],
   "source": [
    "y_pred= clf.predict(x_test)"
   ]
  },
  {
   "cell_type": "code",
   "execution_count": 14,
   "metadata": {
    "colab": {
     "base_uri": "https://localhost:8080/"
    },
    "id": "w_B-nzyx-_2Q",
    "outputId": "e6db2fd0-a55e-4057-84c1-fd3bfacbe674"
   },
   "outputs": [
    {
     "name": "stdout",
     "output_type": "stream",
     "text": [
      "\n",
      "---Metrics for Naive Bayes---\n",
      "\n",
      " Confusion Matrix\n",
      " [[292569 472794]\n",
      " [171606 596590]]\n",
      "\n",
      " Accuracy 0.5798009727698771\n",
      "\n",
      " Precision 0.594023529828469\n",
      "\n",
      " Recall 0.5798009727698771\n",
      "\n",
      " F1 Score 0.5627712303369032\n"
     ]
    }
   ],
   "source": [
    "conf_matrix = get_model_metrics(y_test, y_pred, 'Naive Bayes')"
   ]
  },
  {
   "cell_type": "markdown",
   "metadata": {
    "id": "zDfI0c5kkWM3"
   },
   "source": [
    "## ROC Curve"
   ]
  },
  {
   "cell_type": "code",
   "execution_count": 15,
   "metadata": {
    "scrolled": true
   },
   "outputs": [],
   "source": [
    " y_score = clf.predict_proba(x_test)"
   ]
  },
  {
   "cell_type": "code",
   "execution_count": 16,
   "metadata": {},
   "outputs": [
    {
     "data": {
      "text/plain": [
       "(1533559,)"
      ]
     },
     "execution_count": 16,
     "metadata": {},
     "output_type": "execute_result"
    }
   ],
   "source": [
    "y_test.shape"
   ]
  },
  {
   "cell_type": "code",
   "execution_count": 17,
   "metadata": {},
   "outputs": [
    {
     "data": {
      "image/png": "[encoded data removed]",
      "text/plain": [
       "<Figure size 432x288 with 1 Axes>"
      ]
     },
     "metadata": {
      "needs_background": "light"
     },
     "output_type": "display_data"
    },
    {
     "data": {
      "image/png": "[encoded data removed]",
      "text/plain": [
       "<Figure size 360x360 with 1 Axes>"
      ]
     },
     "metadata": {
      "needs_background": "light"
     },
     "output_type": "display_data"
    }
   ],
   "source": [
    "get_roc_curves(y_test,y_pred)"
   ]
  },
  {
   "cell_type": "markdown",
   "metadata": {},
   "source": [
    "## K - folds"
   ]
  },
  {
   "cell_type": "code",
   "execution_count": 18,
   "metadata": {
    "id": "26gXEHJdC9Ub"
   },
   "outputs": [
    {
     "name": "stdout",
     "output_type": "stream",
     "text": [
      "---k-fold scores for Naive Bayes---\n",
      "Scores are:  [0.58048723 0.57923916 0.57937033 0.57995459 0.57871042 0.57989981\n",
      " 0.57971071 0.57909645 0.57998589 0.57968332]\n",
      "Mean is:  0.5796137922756899\n",
      "STD is: +- 0.0004895788250799601\n"
     ]
    }
   ],
   "source": [
    "k_fold_val(clf, X, y, \"Naive Bayes\", splits = 10)"
   ]
  },
  {
   "cell_type": "markdown",
   "metadata": {},
   "source": [
    "## Test Predictions"
   ]
  },
  {
   "cell_type": "code",
   "execution_count": 19,
   "metadata": {
    "scrolled": true
   },
   "outputs": [],
   "source": [
    "df_test = pd.read_csv('./datasets/test_preprocessed.csv', usecols=X_columns)"
   ]
  },
  {
   "cell_type": "code",
   "execution_count": 20,
   "metadata": {},
   "outputs": [],
   "source": [
    "# df_test = df_test.sample(frac = 0.5)"
   ]
  },
  {
   "cell_type": "code",
   "execution_count": 21,
   "metadata": {},
   "outputs": [],
   "source": [
    "pred = clf.predict(df_test[X_columns])"
   ]
  },
  {
   "cell_type": "code",
   "execution_count": 23,
   "metadata": {},
   "outputs": [],
   "source": [
    "df_test['predictions'] = pred"
   ]
  },
  {
   "cell_type": "code",
   "execution_count": 30,
   "metadata": {},
   "outputs": [
    {
     "data": {
      "text/plain": [
       "5137437    1\n",
       "3812197    1\n",
       "7218464    0\n",
       "5485084    1\n",
       "2051912    1\n",
       "1767961    1\n",
       "2591048    0\n",
       "1575749    1\n",
       "5346961    1\n",
       "347510     1\n",
       "Name: predictions, dtype: int8"
      ]
     },
     "execution_count": 30,
     "metadata": {},
     "output_type": "execute_result"
    }
   ],
   "source": [
    "df_test['predictions'][0:10]"
   ]
  }
 ],
 "metadata": {
  "colab": {
   "collapsed_sections": [],
   "name": "Naive Bayes.ipynb",
   "provenance": []
  },
  "kernelspec": {
   "display_name": "Python 3 (ipykernel)",
   "language": "python",
   "name": "python3"
  },
  "language_info": {
   "codemirror_mode": {
    "name": "ipython",
    "version": 3
   },
   "file_extension": ".py",
   "mimetype": "text/x-python",
   "name": "python",
   "nbconvert_exporter": "python",
   "pygments_lexer": "ipython3",
   "version": "3.9.10"
  }
 },
 "nbformat": 4,
 "nbformat_minor": 4
}
